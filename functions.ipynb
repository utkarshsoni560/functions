{
  "nbformat": 4,
  "nbformat_minor": 0,
  "metadata": {
    "colab": {
      "provenance": []
    },
    "kernelspec": {
      "name": "python3",
      "display_name": "Python 3"
    },
    "language_info": {
      "name": "python"
    }
  },
  "cells": [
    {
      "cell_type": "markdown",
      "source": [
        "1. What is the difference between a function and a method in Python?\n",
        "-A function is a standalone block of reusable code, while a method is a function that is associated with an object and is called on that object.\n",
        "\n",
        "2. Explain the concept of function arguments and parameters in Python.\n",
        "-Parameters are variables defined in a function declaration. Arguments are the actual values passed to the function when it is called.\n",
        "\n",
        "3. What are the different ways to define and call a function in Python?\n",
        "-Functions can be defined using the def keyword or lambda expressions. They can be called by using their name followed by parentheses containing arguments.\n",
        "\n",
        "4. What is the purpose of the return statement in a Python function?\n",
        "-The return statement ends the function execution and optionally sends a value back to the caller.\n",
        "\n",
        "5. What are iterators in Python and how do they differ from iterables?\n",
        "-Iterators are objects that implement the __next__() method to fetch items one at a time. Iterables are objects that can return an iterator using the __iter__() method.\n",
        "\n",
        "6. Explain the concept of generators in Python and how they are defined.\n",
        "-Generators are a type of iterable created using functions and the yield statement. They produce values one at a time and maintain their state between calls.\n",
        "\n",
        "7. What are the advantages of using generators over regular functions?\n",
        "-Generators are memory-efficient, lazy (generate values on demand), and can handle large datasets or infinite sequences without storing all values in memory.\n",
        "\n",
        "8. What is a lambda function in Python and when is it typically used?\n",
        "-A lambda function is an anonymous, single-expression function used for short tasks, often as arguments to functions like map(), filter(), or sorted().\n",
        "\n",
        "9. Explain the purpose and usage of the map() function in Python.\n",
        "-The map() function applies a specified function to each item of an iterable and returns a map object containing the results.\n",
        "\n",
        "10. What is the difference between map(), reduce(), and filter() functions in Python?\n",
        "-map() applies a function to each item in an iterable.\n",
        "filter() selects items from an iterable based on a condition.\n",
        "reduce() applies a function cumulatively to the items of an iterable, reducing them to a single value."
      ],
      "metadata": {
        "id": "Ue_hkOt5hM9_"
      }
    },
    {
      "cell_type": "code",
      "source": [
        "\"\"\"1. Write a Python function that takes a list of numbers as input and returns the sum of all even numbers in\n",
        "the list.\"\"\"\n",
        "def sum_even_numbers(numbers):\n",
        "    return sum(num for num in numbers if num % 2 == 0)"
      ],
      "metadata": {
        "id": "0_vX49d8stTs"
      },
      "execution_count": 5,
      "outputs": []
    },
    {
      "cell_type": "code",
      "source": [
        " #2. Create a Python function that accepts a string and returns the reverse of that string.\n",
        " def reverse_string(s):\n",
        "    return s[::-1]"
      ],
      "metadata": {
        "id": "FvmTAJRytrBW"
      },
      "execution_count": 7,
      "outputs": []
    },
    {
      "cell_type": "code",
      "source": [
        " \"\"\"3. Implement a Python function that takes a list of integers and returns a new list containing the squares of\n",
        "each number.\"\"\"\n",
        "def square_list(numbers):\n",
        "    return [num ** 2 for num in numbers]"
      ],
      "metadata": {
        "id": "KqRC83YwuGNS"
      },
      "execution_count": 8,
      "outputs": []
    },
    {
      "cell_type": "code",
      "source": [
        "# 4. Write a Python function that checks if a given number is prime or not from 1 to 200.\n",
        "def is_prime(n):\n",
        "    if n < 2:\n",
        "        return False\n",
        "    for i in range(2, int(n**0.5) + 1):\n",
        "        if n % i == 0:\n",
        "            return False\n",
        "    return True\n",
        "\n",
        "primes = [i for i in range(1, 201) if is_prime(i)]\n"
      ],
      "metadata": {
        "id": "Ewk97tUTuU33"
      },
      "execution_count": 9,
      "outputs": []
    },
    {
      "cell_type": "code",
      "source": [
        " \"\"\"5. Create an iterator class in Python that generates the Fibonacci sequence up to a specified number of\n",
        "terms.\"\"\"\n",
        "class FibonacciIterator:\n",
        "    def __init__(self, n):\n",
        "        self.n = n\n",
        "        self.a, self.b = 0, 1\n",
        "        self.count = 0\n",
        "\n",
        "    def __iter__(self):\n",
        "        return self\n",
        "\n",
        "    def __next__(self):\n",
        "        if self.count >= self.n:\n",
        "            raise StopIteration\n",
        "        self.a, self.b = self.b, self.a + self.b\n",
        "        self.count += 1\n",
        "        return self.a"
      ],
      "metadata": {
        "id": "UeeQ6WoCueHI"
      },
      "execution_count": 10,
      "outputs": []
    },
    {
      "cell_type": "code",
      "source": [
        " #6. Write a generator function in Python that yields the powers of 2 up to a given exponent.\n",
        " def powers_of_two(max_exponent):\n",
        "    for i in range(max_exponent + 1):\n",
        "        yield 2 ** i"
      ],
      "metadata": {
        "id": "wT-6Yq0PuvzN"
      },
      "execution_count": 11,
      "outputs": []
    },
    {
      "cell_type": "code",
      "source": [
        "#7. Implement a generator function that reads a file line by line and yields each line as a string.\n",
        "def read_file_lines(filepath):\n",
        "    with open(filepath, 'r') as file:\n",
        "        for line in file:\n",
        "            yield line.strip()"
      ],
      "metadata": {
        "id": "HzHLg5vau6FA"
      },
      "execution_count": 12,
      "outputs": []
    },
    {
      "cell_type": "code",
      "source": [
        "#8. Use a lambda function in Python to sort a list of tuples based on the second element of each tuple.\n",
        "data = [(1, 3), (2, 1), (3, 2)]\n",
        "sorted_data = sorted(data, key=lambda x: x[1])\n"
      ],
      "metadata": {
        "id": "H7my4p71vJWL"
      },
      "execution_count": 13,
      "outputs": []
    },
    {
      "cell_type": "code",
      "source": [
        " #9. Write a Python program that uses `map()` to convert a list of temperatures from Celsius to Fahrenheit.\n",
        " celsius = [0, 20, 37, 100]\n",
        "fahrenheit = list(map(lambda c: (c * 9/5) + 32, celsius))\n"
      ],
      "metadata": {
        "id": "_Cvx2NqEvTvO"
      },
      "execution_count": 14,
      "outputs": []
    },
    {
      "cell_type": "code",
      "source": [
        "#10. Create a Python program that uses `filter()` to remove all the vowels from a given string.\n",
        "def remove_vowels(s):\n",
        "    return ''.join(filter(lambda x: x.lower() not in 'aeiou', s))"
      ],
      "metadata": {
        "id": "pi1hc5cQvbW3"
      },
      "execution_count": 15,
      "outputs": []
    },
    {
      "cell_type": "code",
      "source": [
        "\"\"\"11.Write a Python program, which returns a list with 2-tuples. Each tuple consists of the order number and the\n",
        "product of the price per item and the quantity. The product should be increased by 10,- € if the value of the\n",
        "order is smaller than 100,00 €.\n",
        " Write a Python program using lambda and map\"\"\"\n",
        " orders = [\n",
        "    [34587, \"Learning Python\", 4, 40.95],\n",
        "    [98762, \"Programming Python\", 5, 56.80],\n",
        "    [77226, \"Head First Python\", 3, 32.95],\n",
        "    [88112, \"Einführung in Python3\", 3, 24.99]\n",
        "]\n",
        "\n",
        "result = list(map(lambda order: (\n",
        "    order[0],\n",
        "    order[2] * order[3] if order[2] * order[3] >= 100 else order[2] * order[3] + 10\n",
        "), orders))\n"
      ],
      "metadata": {
        "colab": {
          "base_uri": "https://localhost:8080/",
          "height": 106
        },
        "id": "GKVzjxKrvjpp",
        "outputId": "d2ac6e7e-31c0-431a-a0be-3e59e6c1d20f"
      },
      "execution_count": 16,
      "outputs": [
        {
          "output_type": "error",
          "ename": "IndentationError",
          "evalue": "unexpected indent (<ipython-input-16-971b997f12b0>, line 5)",
          "traceback": [
            "\u001b[0;36m  File \u001b[0;32m\"<ipython-input-16-971b997f12b0>\"\u001b[0;36m, line \u001b[0;32m5\u001b[0m\n\u001b[0;31m    orders = [\u001b[0m\n\u001b[0m    ^\u001b[0m\n\u001b[0;31mIndentationError\u001b[0m\u001b[0;31m:\u001b[0m unexpected indent\n"
          ]
        }
      ]
    }
  ]
}